{
 "cells": [
  {
   "cell_type": "markdown",
   "id": "selective-mexican",
   "metadata": {},
   "source": [
    "# Predicting camera quality using reviews.\n",
    "\n",
    "*Author: Yusef Ahsini Ouariaghli*\n",
    "\n",
    "This project is about a creation of a Neural Network using Keras to predict the camera quality of a smartphone with users reviews. The objective is that with only one review from a retailer like Amazon, we can estimate the quality of a phone's camera. \n"
   ]
  },
  {
   "cell_type": "markdown",
   "id": "annoying-injection",
   "metadata": {},
   "source": [
    "### Our data.\n",
    "\n",
    "The data we're going to use in this project has been obtained using web-scrapping techniques. The first of our data-sets has more than 80000 smartphone reviews from the top online retailers worldwide, all of them translated to English. The second contains the specs and the DXO mark camera test result for all the phones in our reviews file. The number of reviews is higher for Samsung and Apple devices because these two manufacturers are the ones with more sales, so the resulting model from using this data will tend to predict them better. \n",
    "\n",
    "Since the data was used and integrated for the course <b>Project II, data integration and reparation</b> in my Data Science B.Sc. we will skip the cleaning because it was already done.\n",
    "\n",
    "### Integration, processing and exploratory analysis.\n",
    "\n",
    "Our objective in this first part is to obtain a data frame with the review, the final camera score, and some basic smartphone specs related to the camera and hardware. Once we have it, we're going to process the text from the review column lowercasing all the word, removing the punctuation, the stop words and digits. We're also going to center and scale all the numeric variables. "
   ]
  },
  {
   "cell_type": "markdown",
   "id": "arranged-document",
   "metadata": {},
   "source": [
    "We read the two files with the reviews and the specs, and we merge them into a unique `DataFrame`."
   ]
  },
  {
   "cell_type": "code",
   "execution_count": 1,
   "id": "decreased-smith",
   "metadata": {},
   "outputs": [],
   "source": [
    "import pandas as pd\n",
    "\n",
    "reviews = pd.read_csv(\"english_reviews.csv\", sep=\";\")\n",
    "reviews.rename(columns={\"device\": \"Device\"}, inplace=True)\n",
    "specs = pd.read_csv(\"specs.csv\", sep=\";\")\n",
    "specs.loc[61,\"Apertura_1\"] = 1.5 #Galaxy S9, with variable aperture, we transform it to the lowest value\n",
    "specs[\"Apertura_1\"] = specs[\"Apertura_1\"].apply(lambda x: float(x))\n",
    "specs = specs[[\"Device\",\"final_score\",\"Apertura_1\", \"Resolucion_1\",\"Tama�.o_pixel_1\", \"Numero_camaras\",\"Puntuacion_CPU\",\"Ram\"]]\n",
    "df = pd.merge(reviews, specs, how=\"inner\", on=\"Device\")"
   ]
  },
  {
   "cell_type": "markdown",
   "id": "solid-malaysia",
   "metadata": {},
   "source": [
    "With the final `DataFrame` we plot how many reviews we have to each manufacture. We can see that the predominant brand in our data is Samsung, so the model we build using this information will be more accurate with Samsung reviews. "
   ]
  },
  {
   "cell_type": "code",
   "execution_count": 2,
   "id": "classical-trade",
   "metadata": {},
   "outputs": [
    {
     "data": {
      "text/plain": [
       "<AxesSubplot:title={'center':'Amount of reviews for each manufacturer'}>"
      ]
     },
     "execution_count": 2,
     "metadata": {},
     "output_type": "execute_result"
    },
    {
     "data": {
      "image/png": "[encoded data removed]",
      "text/plain": [
       "<Figure size 864x360 with 1 Axes>"
      ]
     },
     "metadata": {
      "needs_background": "light"
     },
     "output_type": "display_data"
    }
   ],
   "source": [
    "df[\"manufacturer\"].value_counts().plot(kind=\"bar\", title=\"Amount of reviews for each manufacturer\", grid=True, figsize=(12,5))"
   ]
  },
  {
   "cell_type": "markdown",
   "id": "organic-cambodia",
   "metadata": {},
   "source": [
    "The next lines of will select only the columns we're going to use in the next part of the creation of the prediction model."
   ]
  },
  {
   "cell_type": "code",
   "execution_count": 3,
   "id": "inappropriate-compound",
   "metadata": {},
   "outputs": [
    {
     "data": {
      "text/html": [
       "<div>\n",
       "<style scoped>\n",
       "    .dataframe tbody tr th:only-of-type {\n",
       "        vertical-align: middle;\n",
       "    }\n",
       "\n",
       "    .dataframe tbody tr th {\n",
       "        vertical-align: top;\n",
       "    }\n",
       "\n",
       "    .dataframe thead th {\n",
       "        text-align: right;\n",
       "    }\n",
       "</style>\n",
       "<table border=\"1\" class=\"dataframe\">\n",
       "  <thead>\n",
       "    <tr style=\"text-align: right;\">\n",
       "      <th></th>\n",
       "      <th>review</th>\n",
       "      <th>camera_score</th>\n",
       "      <th>main_aperture</th>\n",
       "      <th>camera_res</th>\n",
       "      <th>main_pixel_size</th>\n",
       "      <th>n_cameras</th>\n",
       "      <th>cpu_benckmark</th>\n",
       "      <th>ram</th>\n",
       "    </tr>\n",
       "  </thead>\n",
       "  <tbody>\n",
       "    <tr>\n",
       "      <th>0</th>\n",
       "      <td>Incredible screen, cameras, battery, pen.........</td>\n",
       "      <td>131</td>\n",
       "      <td>1.8</td>\n",
       "      <td>108</td>\n",
       "      <td>0.8</td>\n",
       "      <td>4</td>\n",
       "      <td>897556</td>\n",
       "      <td>8</td>\n",
       "    </tr>\n",
       "    <tr>\n",
       "      <th>1</th>\n",
       "      <td>Watch out for Samsung. Eye replacement policie...</td>\n",
       "      <td>131</td>\n",
       "      <td>1.8</td>\n",
       "      <td>108</td>\n",
       "      <td>0.8</td>\n",
       "      <td>4</td>\n",
       "      <td>897556</td>\n",
       "      <td>8</td>\n",
       "    </tr>\n",
       "    <tr>\n",
       "      <th>2</th>\n",
       "      <td>Very good, but the software needs optimization...</td>\n",
       "      <td>131</td>\n",
       "      <td>1.8</td>\n",
       "      <td>108</td>\n",
       "      <td>0.8</td>\n",
       "      <td>4</td>\n",
       "      <td>897556</td>\n",
       "      <td>8</td>\n",
       "    </tr>\n",
       "    <tr>\n",
       "      <th>3</th>\n",
       "      <td>Impressive\\nIt is a renewed mobile with respec...</td>\n",
       "      <td>131</td>\n",
       "      <td>1.8</td>\n",
       "      <td>108</td>\n",
       "      <td>0.8</td>\n",
       "      <td>4</td>\n",
       "      <td>897556</td>\n",
       "      <td>8</td>\n",
       "    </tr>\n",
       "    <tr>\n",
       "      <th>4</th>\n",
       "      <td>An aesthetic and functional jewel.\\nAfter my N...</td>\n",
       "      <td>131</td>\n",
       "      <td>1.8</td>\n",
       "      <td>108</td>\n",
       "      <td>0.8</td>\n",
       "      <td>4</td>\n",
       "      <td>897556</td>\n",
       "      <td>8</td>\n",
       "    </tr>\n",
       "  </tbody>\n",
       "</table>\n",
       "</div>"
      ],
      "text/plain": [
       "                                              review  camera_score  \\\n",
       "0  Incredible screen, cameras, battery, pen.........           131   \n",
       "1  Watch out for Samsung. Eye replacement policie...           131   \n",
       "2  Very good, but the software needs optimization...           131   \n",
       "3  Impressive\\nIt is a renewed mobile with respec...           131   \n",
       "4  An aesthetic and functional jewel.\\nAfter my N...           131   \n",
       "\n",
       "   main_aperture  camera_res  main_pixel_size  n_cameras  cpu_benckmark  ram  \n",
       "0            1.8         108              0.8          4         897556    8  \n",
       "1            1.8         108              0.8          4         897556    8  \n",
       "2            1.8         108              0.8          4         897556    8  \n",
       "3            1.8         108              0.8          4         897556    8  \n",
       "4            1.8         108              0.8          4         897556    8  "
      ]
     },
     "execution_count": 3,
     "metadata": {},
     "output_type": "execute_result"
    }
   ],
   "source": [
    "df = df.loc[:,[\"comentario\",\"final_score\",\"Apertura_1\", \"Resolucion_1\",\"Tama�.o_pixel_1\", \"Numero_camaras\",\"Puntuacion_CPU\",\"Ram\"]]\n",
    "df.rename(columns={\"comentario\":\"review\", \"final_score\":\"camera_score\",\"Apertura_1\":\"main_aperture\", \"Resolucion_1\":\"camera_res\",\"Tama�.o_pixel_1\":\"main_pixel_size\", \"Numero_camaras\":\"n_cameras\",\"Puntuacion_CPU\":\"cpu_benckmark\",\"Ram\":\"ram\"}, inplace=True)\n",
    "df.head()"
   ]
  },
  {
   "cell_type": "markdown",
   "id": "passing-facial",
   "metadata": {},
   "source": [
    "We scale and center the numeric variables making them to have a std of 1 and a mean of 0."
   ]
  },
  {
   "cell_type": "code",
   "execution_count": 4,
   "id": "chemical-animal",
   "metadata": {},
   "outputs": [],
   "source": [
    "df[\"camera_score\"] = (df[\"camera_score\"]-df[\"camera_score\"].mean())/df[\"camera_score\"].std()\n",
    "df[\"main_aperture\"] = (df[\"main_aperture\"]-df[\"main_aperture\"].mean())/df[\"main_aperture\"].std()\n",
    "df[\"camera_res\"] = (df[\"camera_res\"]-df[\"camera_res\"].mean())/df[\"camera_res\"].std()\n",
    "df[\"main_pixel_size\"] = (df[\"main_pixel_size\"]-df[\"main_pixel_size\"].mean())/df[\"main_pixel_size\"].std()\n",
    "df[\"n_cameras\"] = (df[\"n_cameras\"]-df[\"n_cameras\"].mean())/df[\"n_cameras\"].std()\n",
    "df[\"cpu_benckmark\"] = (df[\"cpu_benckmark\"]-df[\"cpu_benckmark\"].mean())/df[\"cpu_benckmark\"].std()\n",
    "df[\"ram\"] = (df[\"ram\"]-df[\"ram\"].mean())/df[\"ram\"].std()"
   ]
  },
  {
   "cell_type": "markdown",
   "id": "grateful-cliff",
   "metadata": {},
   "source": [
    "To understand a bit more what kind of smartphone we have in our data, we will use pandas function `.describe()` to see how it's. And since we centered it, we can compare the distribution of each column. We can see that the camera_score, the variable we want to predict, has a max of 2.03 and a min of -2.9, with 50% of the phones between -0.5 and 0.7. Also, we can appreciate that the median is 0.14, very close to the mean."
   ]
  },
  {
   "cell_type": "code",
   "execution_count": 5,
   "id": "enabling-microwave",
   "metadata": {},
   "outputs": [
    {
     "data": {
      "text/html": [
       "<div>\n",
       "<style scoped>\n",
       "    .dataframe tbody tr th:only-of-type {\n",
       "        vertical-align: middle;\n",
       "    }\n",
       "\n",
       "    .dataframe tbody tr th {\n",
       "        vertical-align: top;\n",
       "    }\n",
       "\n",
       "    .dataframe thead th {\n",
       "        text-align: right;\n",
       "    }\n",
       "</style>\n",
       "<table border=\"1\" class=\"dataframe\">\n",
       "  <thead>\n",
       "    <tr style=\"text-align: right;\">\n",
       "      <th></th>\n",
       "      <th>camera_score</th>\n",
       "      <th>main_aperture</th>\n",
       "      <th>camera_res</th>\n",
       "      <th>main_pixel_size</th>\n",
       "      <th>n_cameras</th>\n",
       "      <th>cpu_benckmark</th>\n",
       "      <th>ram</th>\n",
       "    </tr>\n",
       "  </thead>\n",
       "  <tbody>\n",
       "    <tr>\n",
       "      <th>count</th>\n",
       "      <td>75526.00000</td>\n",
       "      <td>75526.00000</td>\n",
       "      <td>75526.00000</td>\n",
       "      <td>75089.00000</td>\n",
       "      <td>75526.00000</td>\n",
       "      <td>75526.00000</td>\n",
       "      <td>75526.00000</td>\n",
       "    </tr>\n",
       "    <tr>\n",
       "      <th>mean</th>\n",
       "      <td>0.00000</td>\n",
       "      <td>-0.00000</td>\n",
       "      <td>-0.00000</td>\n",
       "      <td>-0.00000</td>\n",
       "      <td>-0.00000</td>\n",
       "      <td>-0.00000</td>\n",
       "      <td>-0.00000</td>\n",
       "    </tr>\n",
       "    <tr>\n",
       "      <th>std</th>\n",
       "      <td>1.00000</td>\n",
       "      <td>1.00000</td>\n",
       "      <td>1.00000</td>\n",
       "      <td>1.00000</td>\n",
       "      <td>1.00000</td>\n",
       "      <td>1.00000</td>\n",
       "      <td>1.00000</td>\n",
       "    </tr>\n",
       "    <tr>\n",
       "      <th>min</th>\n",
       "      <td>-2.90393</td>\n",
       "      <td>-2.27530</td>\n",
       "      <td>-0.80253</td>\n",
       "      <td>-1.34834</td>\n",
       "      <td>-2.88981</td>\n",
       "      <td>-2.54938</td>\n",
       "      <td>-1.58663</td>\n",
       "    </tr>\n",
       "    <tr>\n",
       "      <th>25%</th>\n",
       "      <td>-0.50607</td>\n",
       "      <td>-0.56742</td>\n",
       "      <td>-0.80253</td>\n",
       "      <td>-1.10642</td>\n",
       "      <td>-0.33887</td>\n",
       "      <td>-0.59775</td>\n",
       "      <td>-0.57180</td>\n",
       "    </tr>\n",
       "    <tr>\n",
       "      <th>50%</th>\n",
       "      <td>0.14790</td>\n",
       "      <td>0.28652</td>\n",
       "      <td>-0.02451</td>\n",
       "      <td>-0.13872</td>\n",
       "      <td>-0.33887</td>\n",
       "      <td>0.09072</td>\n",
       "      <td>0.10475</td>\n",
       "    </tr>\n",
       "    <tr>\n",
       "      <th>75%</th>\n",
       "      <td>0.72920</td>\n",
       "      <td>0.28652</td>\n",
       "      <td>0.32129</td>\n",
       "      <td>1.14348</td>\n",
       "      <td>0.93660</td>\n",
       "      <td>0.84296</td>\n",
       "      <td>1.45786</td>\n",
       "    </tr>\n",
       "    <tr>\n",
       "      <th>max</th>\n",
       "      <td>2.03712</td>\n",
       "      <td>3.70229</td>\n",
       "      <td>4.29788</td>\n",
       "      <td>1.55475</td>\n",
       "      <td>0.93660</td>\n",
       "      <td>1.71348</td>\n",
       "      <td>1.45786</td>\n",
       "    </tr>\n",
       "  </tbody>\n",
       "</table>\n",
       "</div>"
      ],
      "text/plain": [
       "      camera_score main_aperture   camera_res main_pixel_size    n_cameras  \\\n",
       "count  75526.00000   75526.00000  75526.00000     75089.00000  75526.00000   \n",
       "mean       0.00000      -0.00000     -0.00000        -0.00000     -0.00000   \n",
       "std        1.00000       1.00000      1.00000         1.00000      1.00000   \n",
       "min       -2.90393      -2.27530     -0.80253        -1.34834     -2.88981   \n",
       "25%       -0.50607      -0.56742     -0.80253        -1.10642     -0.33887   \n",
       "50%        0.14790       0.28652     -0.02451        -0.13872     -0.33887   \n",
       "75%        0.72920       0.28652      0.32129         1.14348      0.93660   \n",
       "max        2.03712       3.70229      4.29788         1.55475      0.93660   \n",
       "\n",
       "      cpu_benckmark          ram  \n",
       "count   75526.00000  75526.00000  \n",
       "mean       -0.00000     -0.00000  \n",
       "std         1.00000      1.00000  \n",
       "min        -2.54938     -1.58663  \n",
       "25%        -0.59775     -0.57180  \n",
       "50%         0.09072      0.10475  \n",
       "75%         0.84296      1.45786  \n",
       "max         1.71348      1.45786  "
      ]
     },
     "execution_count": 5,
     "metadata": {},
     "output_type": "execute_result"
    }
   ],
   "source": [
    "df.describe().apply(lambda s: s.apply('{0:.5f}'.format))"
   ]
  },
  {
   "cell_type": "markdown",
   "id": "positive-southwest",
   "metadata": {},
   "source": [
    "The last step before start working with the neural network, it's to clean the text. Removing punctuation, stop words and digits. We're also going to convert all the text to lowercase."
   ]
  },
  {
   "cell_type": "code",
   "execution_count": 6,
   "id": "secure-rendering",
   "metadata": {},
   "outputs": [
    {
     "data": {
      "text/html": [
       "<div>\n",
       "<style scoped>\n",
       "    .dataframe tbody tr th:only-of-type {\n",
       "        vertical-align: middle;\n",
       "    }\n",
       "\n",
       "    .dataframe tbody tr th {\n",
       "        vertical-align: top;\n",
       "    }\n",
       "\n",
       "    .dataframe thead th {\n",
       "        text-align: right;\n",
       "    }\n",
       "</style>\n",
       "<table border=\"1\" class=\"dataframe\">\n",
       "  <thead>\n",
       "    <tr style=\"text-align: right;\">\n",
       "      <th></th>\n",
       "      <th>review</th>\n",
       "      <th>camera_score</th>\n",
       "      <th>main_aperture</th>\n",
       "      <th>camera_res</th>\n",
       "      <th>main_pixel_size</th>\n",
       "      <th>n_cameras</th>\n",
       "      <th>cpu_benckmark</th>\n",
       "      <th>ram</th>\n",
       "    </tr>\n",
       "  </thead>\n",
       "  <tbody>\n",
       "    <tr>\n",
       "      <th>0</th>\n",
       "      <td>incredible screen cameras battery pen i convin...</td>\n",
       "      <td>1.092509</td>\n",
       "      <td>0.286524</td>\n",
       "      <td>1.272209</td>\n",
       "      <td>-1.106417</td>\n",
       "      <td>0.936599</td>\n",
       "      <td>1.713480</td>\n",
       "      <td>0.104754</td>\n",
       "    </tr>\n",
       "    <tr>\n",
       "      <th>1</th>\n",
       "      <td>watch samsung eye replacement policies i samsu...</td>\n",
       "      <td>1.092509</td>\n",
       "      <td>0.286524</td>\n",
       "      <td>1.272209</td>\n",
       "      <td>-1.106417</td>\n",
       "      <td>0.936599</td>\n",
       "      <td>1.713480</td>\n",
       "      <td>0.104754</td>\n",
       "    </tr>\n",
       "    <tr>\n",
       "      <th>2</th>\n",
       "      <td>very good software needs optimization it mobil...</td>\n",
       "      <td>1.092509</td>\n",
       "      <td>0.286524</td>\n",
       "      <td>1.272209</td>\n",
       "      <td>-1.106417</td>\n",
       "      <td>0.936599</td>\n",
       "      <td>1.713480</td>\n",
       "      <td>0.104754</td>\n",
       "    </tr>\n",
       "    <tr>\n",
       "      <th>3</th>\n",
       "      <td>impressive it renewed mobile respect previous ...</td>\n",
       "      <td>1.092509</td>\n",
       "      <td>0.286524</td>\n",
       "      <td>1.272209</td>\n",
       "      <td>-1.106417</td>\n",
       "      <td>0.936599</td>\n",
       "      <td>1.713480</td>\n",
       "      <td>0.104754</td>\n",
       "    </tr>\n",
       "    <tr>\n",
       "      <th>4</th>\n",
       "      <td>an aesthetic functional jewel after note edge ...</td>\n",
       "      <td>1.092509</td>\n",
       "      <td>0.286524</td>\n",
       "      <td>1.272209</td>\n",
       "      <td>-1.106417</td>\n",
       "      <td>0.936599</td>\n",
       "      <td>1.713480</td>\n",
       "      <td>0.104754</td>\n",
       "    </tr>\n",
       "    <tr>\n",
       "      <th>...</th>\n",
       "      <td>...</td>\n",
       "      <td>...</td>\n",
       "      <td>...</td>\n",
       "      <td>...</td>\n",
       "      <td>...</td>\n",
       "      <td>...</td>\n",
       "      <td>...</td>\n",
       "      <td>...</td>\n",
       "    </tr>\n",
       "    <tr>\n",
       "      <th>75521</th>\n",
       "      <td>loud bright good enough real name the phones g...</td>\n",
       "      <td>-2.903929</td>\n",
       "      <td>-0.567417</td>\n",
       "      <td>4.297876</td>\n",
       "      <td>-0.864493</td>\n",
       "      <td>-0.338871</td>\n",
       "      <td>-2.316779</td>\n",
       "      <td>-1.248356</td>\n",
       "    </tr>\n",
       "    <tr>\n",
       "      <th>75522</th>\n",
       "      <td>marcys review samsung galaxy ds cm gb gb dual ...</td>\n",
       "      <td>-2.903929</td>\n",
       "      <td>-0.567417</td>\n",
       "      <td>4.297876</td>\n",
       "      <td>-0.864493</td>\n",
       "      <td>-0.338871</td>\n",
       "      <td>-2.316779</td>\n",
       "      <td>-1.248356</td>\n",
       "    </tr>\n",
       "    <tr>\n",
       "      <th>75523</th>\n",
       "      <td>first yes the samsung galaxy cheap first glanc...</td>\n",
       "      <td>-2.903929</td>\n",
       "      <td>-0.567417</td>\n",
       "      <td>4.297876</td>\n",
       "      <td>-0.864493</td>\n",
       "      <td>-0.338871</td>\n",
       "      <td>-2.316779</td>\n",
       "      <td>-1.248356</td>\n",
       "    </tr>\n",
       "    <tr>\n",
       "      <th>75524</th>\n",
       "      <td>reviews confirmed there desire change apple sa...</td>\n",
       "      <td>-2.903929</td>\n",
       "      <td>-0.567417</td>\n",
       "      <td>4.297876</td>\n",
       "      <td>-0.864493</td>\n",
       "      <td>-0.338871</td>\n",
       "      <td>-2.316779</td>\n",
       "      <td>-1.248356</td>\n",
       "    </tr>\n",
       "    <tr>\n",
       "      <th>75525</th>\n",
       "      <td>a black blacker night the strong point smartph...</td>\n",
       "      <td>-2.903929</td>\n",
       "      <td>-0.567417</td>\n",
       "      <td>4.297876</td>\n",
       "      <td>-0.864493</td>\n",
       "      <td>-0.338871</td>\n",
       "      <td>-2.316779</td>\n",
       "      <td>-1.248356</td>\n",
       "    </tr>\n",
       "  </tbody>\n",
       "</table>\n",
       "<p>75526 rows × 8 columns</p>\n",
       "</div>"
      ],
      "text/plain": [
       "                                                  review  camera_score  \\\n",
       "0      incredible screen cameras battery pen i convin...      1.092509   \n",
       "1      watch samsung eye replacement policies i samsu...      1.092509   \n",
       "2      very good software needs optimization it mobil...      1.092509   \n",
       "3      impressive it renewed mobile respect previous ...      1.092509   \n",
       "4      an aesthetic functional jewel after note edge ...      1.092509   \n",
       "...                                                  ...           ...   \n",
       "75521  loud bright good enough real name the phones g...     -2.903929   \n",
       "75522  marcys review samsung galaxy ds cm gb gb dual ...     -2.903929   \n",
       "75523  first yes the samsung galaxy cheap first glanc...     -2.903929   \n",
       "75524  reviews confirmed there desire change apple sa...     -2.903929   \n",
       "75525  a black blacker night the strong point smartph...     -2.903929   \n",
       "\n",
       "       main_aperture  camera_res  main_pixel_size  n_cameras  cpu_benckmark  \\\n",
       "0           0.286524    1.272209        -1.106417   0.936599       1.713480   \n",
       "1           0.286524    1.272209        -1.106417   0.936599       1.713480   \n",
       "2           0.286524    1.272209        -1.106417   0.936599       1.713480   \n",
       "3           0.286524    1.272209        -1.106417   0.936599       1.713480   \n",
       "4           0.286524    1.272209        -1.106417   0.936599       1.713480   \n",
       "...              ...         ...              ...        ...            ...   \n",
       "75521      -0.567417    4.297876        -0.864493  -0.338871      -2.316779   \n",
       "75522      -0.567417    4.297876        -0.864493  -0.338871      -2.316779   \n",
       "75523      -0.567417    4.297876        -0.864493  -0.338871      -2.316779   \n",
       "75524      -0.567417    4.297876        -0.864493  -0.338871      -2.316779   \n",
       "75525      -0.567417    4.297876        -0.864493  -0.338871      -2.316779   \n",
       "\n",
       "            ram  \n",
       "0      0.104754  \n",
       "1      0.104754  \n",
       "2      0.104754  \n",
       "3      0.104754  \n",
       "4      0.104754  \n",
       "...         ...  \n",
       "75521 -1.248356  \n",
       "75522 -1.248356  \n",
       "75523 -1.248356  \n",
       "75524 -1.248356  \n",
       "75525 -1.248356  \n",
       "\n",
       "[75526 rows x 8 columns]"
      ]
     },
     "execution_count": 6,
     "metadata": {},
     "output_type": "execute_result"
    }
   ],
   "source": [
    "from nltk.corpus import stopwords\n",
    "import string\n",
    "\n",
    "stop = stopwords.words(\"english\")\n",
    "\n",
    "df[\"review\"] = df[\"review\"].apply(lambda x: \" \".join([word.translate(str.maketrans('', '', string.punctuation)) for word in x.split()]))\n",
    "df[\"review\"] = df[\"review\"].apply(lambda x: \" \".join([word for word in x.split() if word not in (stop)]))\n",
    "df[\"review\"] = df[\"review\"].apply(lambda x: \" \".join([word.lower() for word in x.split()]))\n",
    "df[\"review\"] = df[\"review\"].apply(lambda x: \" \".join([word for word in x.split() if any(i.isdigit() for i in word) == False ]))\n",
    "df"
   ]
  },
  {
   "cell_type": "code",
   "execution_count": 7,
   "id": "caroline-lebanon",
   "metadata": {},
   "outputs": [],
   "source": [
    "df[\"review\"] = [line.split() for line in df[\"review\"]] #split all the text in individual words"
   ]
  },
  {
   "cell_type": "markdown",
   "id": "becoming-private",
   "metadata": {},
   "source": [
    "### Neural network training and validation.\n",
    "\n",
    "With all the data clean, we're going to start building our model. Since we are trying to predict using text as input, it has to be transformed  to a numeric value using Keras function `Tokenizer`, that will create a dictionary with the words in our training set. The result will be a list where each position corresponds to the position of a word in a dictionary, if its value is a 0 the word isn't in the text and if it's 1 it is in. We will limit the word in the dictionary to 14000 words due to limited computational resources."
   ]
  },
  {
   "cell_type": "code",
   "execution_count": 8,
   "id": "corrected-blend",
   "metadata": {
    "scrolled": true
   },
   "outputs": [
    {
     "name": "stderr",
     "output_type": "stream",
     "text": [
      "<ipython-input-8-e6d13601808b>:13: SettingWithCopyWarning: \n",
      "A value is trying to be set on a copy of a slice from a DataFrame.\n",
      "Try using .loc[row_indexer,col_indexer] = value instead\n",
      "\n",
      "See the caveats in the documentation: https://pandas.pydata.org/pandas-docs/stable/user_guide/indexing.html#returning-a-view-versus-a-copy\n",
      "  train[\"review\"] = list(t.texts_to_matrix(train[\"review\"], mode='binary'))\n",
      "<ipython-input-8-e6d13601808b>:14: SettingWithCopyWarning: \n",
      "A value is trying to be set on a copy of a slice from a DataFrame.\n",
      "Try using .loc[row_indexer,col_indexer] = value instead\n",
      "\n",
      "See the caveats in the documentation: https://pandas.pydata.org/pandas-docs/stable/user_guide/indexing.html#returning-a-view-versus-a-copy\n",
      "  test[\"review\"] = list(t.texts_to_matrix(test[\"review\"], mode='binary'))\n"
     ]
    }
   ],
   "source": [
    "import numpy as np\n",
    "from keras.preprocessing.text import Tokenizer\n",
    "from sklearn.model_selection import train_test_split\n",
    "\n",
    "train, test = train_test_split(df, test_size=0.2) #80% train, 20% test\n",
    "\n",
    "t = Tokenizer()\n",
    "t.fit_on_texts(train[\"review\"])\n",
    "t.num_words = 14000\n",
    "\n",
    "#binary works better than count in most cases because it doesn't make the prediction dependent on the review size\n",
    "\n",
    "train[\"review\"] = list(t.texts_to_matrix(train[\"review\"], mode='binary'))\n",
    "test[\"review\"] = list(t.texts_to_matrix(test[\"review\"], mode='binary'))\n",
    "\n",
    "train.to_csv(\"train.csv\", sep=\";\")\n",
    "test.to_csv(\"test.csv\", sep=\";\")\n",
    "\n",
    "# If you downlad the code from GitHub just uncomment the next lines.\n",
    "#test = pd.read_csv(\"test.csv\", sep=\";\")\n",
    "#train = pd.read_csv(\"train.csv\", sep=\";\")\n",
    "\n",
    "\n",
    "trainX, trainY = np.stack(train[\"review\"].values),  train[\"camera_score\"].values\n",
    "testX, testY = np.stack(test[\"review\"].values), test[\"camera_score\"].values\n",
    "\n",
    "lst = [train, test] # we delete them to save memory\n",
    "del train, test \n",
    "del lst"
   ]
  },
  {
   "cell_type": "markdown",
   "id": "patent-drilling",
   "metadata": {},
   "source": [
    "Now we create our neural network with an input layer size of 14000, the size of the dictionary. We only use one hidden layer with 15 nodes (this is the configuration that suits better to our data after trying more than 10 different options) and the ReLu activation function. The output is the DXO mark expected values for the review (centered and scaled). "
   ]
  },
  {
   "cell_type": "code",
   "execution_count": 9,
   "id": "suitable-nickel",
   "metadata": {},
   "outputs": [],
   "source": [
    "from keras.models import Sequential\n",
    "from keras.layers import Dense\n",
    "\n",
    "model = Sequential()\n",
    "model.add(Dense(15, activation=\"relu\", input_shape=(14000,)))\n",
    "model.add(Dense(1))\n",
    "model.compile(optimizer=\"adam\", loss=\"mean_squared_error\")"
   ]
  },
  {
   "cell_type": "markdown",
   "id": "proper-keyboard",
   "metadata": {},
   "source": [
    "To train the model, we will use up to 25 epochs if it's necessary, but use the callback parameter to stop optimizing when the model starts to overfit the training data. We use the mean squared error to measure how precise is the prediction."
   ]
  },
  {
   "cell_type": "code",
   "execution_count": 10,
   "id": "funny-masters",
   "metadata": {},
   "outputs": [
    {
     "name": "stdout",
     "output_type": "stream",
     "text": [
      "Epoch 1/25\n",
      "473/473 [==============================] - 13s 21ms/step - loss: 0.6939 - val_loss: 0.6248\n",
      "Epoch 2/25\n",
      "473/473 [==============================] - 4s 9ms/step - loss: 0.5527 - val_loss: 0.6034\n",
      "Epoch 3/25\n",
      "473/473 [==============================] - 4s 9ms/step - loss: 0.4907 - val_loss: 0.6026\n",
      "Epoch 4/25\n",
      "473/473 [==============================] - 4s 8ms/step - loss: 0.4470 - val_loss: 0.6124\n",
      "Epoch 5/25\n",
      "473/473 [==============================] - 4s 8ms/step - loss: 0.4116 - val_loss: 0.6179\n"
     ]
    },
    {
     "data": {
      "text/plain": [
       "<keras.callbacks.History at 0x1321c5dbd30>"
      ]
     },
     "execution_count": 10,
     "metadata": {},
     "output_type": "execute_result"
    }
   ],
   "source": [
    "from keras.callbacks import EarlyStopping, ModelCheckpoint\n",
    "\n",
    "callbacks = [EarlyStopping(monitor='val_loss', patience=2),\n",
    "         ModelCheckpoint(filepath='camera_quality_from_reviews.h5', monitor='val_loss', save_best_only=True)]\n",
    "\n",
    "model.fit(trainX, trainY, epochs=25 ,validation_data=(testX, testY), batch_size=128, verbose=1,callbacks=callbacks)"
   ]
  },
  {
   "cell_type": "code",
   "execution_count": 11,
   "id": "adapted-nashville",
   "metadata": {},
   "outputs": [
    {
     "name": "stdout",
     "output_type": "stream",
     "text": [
      "473/473 [==============================] - 8s 3ms/step\n"
     ]
    }
   ],
   "source": [
    "#You can load the model directly with the next lines \n",
    "#from keras.models import load_model\n",
    "#model = load_model(\"camera_quality_from_reviews.h5\")\n",
    "\n",
    "predict = model.predict(testX)"
   ]
  },
  {
   "cell_type": "markdown",
   "id": "polyphonic-carrier",
   "metadata": {},
   "source": [
    "### Conclusion\n",
    "\n",
    "After creating our model and predicting the test data and comparing it to the real value, we can observe that most of the review predictions are not far from the real value. The average deviation from the real value is 0.6, not bad when the values are between -3 and 2. \n",
    "\n",
    "With more reviews, we would get a more accurate model, specially with the worst cameras. They are predicted higher than the actual value due to the low number of reviews of this kind of phones, but even in the worst prediction for a bad camera it will be predicted as average. "
   ]
  },
  {
   "cell_type": "code",
   "execution_count": 12,
   "id": "bizarre-vitamin",
   "metadata": {},
   "outputs": [
    {
     "data": {
      "image/png": "[encoded data removed]",
      "text/plain": [
       "<Figure size 720x720 with 1 Axes>"
      ]
     },
     "metadata": {
      "needs_background": "light"
     },
     "output_type": "display_data"
    }
   ],
   "source": [
    "import matplotlib.pyplot as plt\n",
    "\n",
    "plt.figure(figsize=(10,10))\n",
    "plt.scatter(testY, predict, c='crimson',s=0.01)\n",
    "\n",
    "p1 = max(max(predict), max(testY))\n",
    "p2 = min(min(predict), min(testY))\n",
    "plt.plot([p1, p2], [p1, p2], 'b-', markersize=0.001)\n",
    "plt.xlabel('True Values', fontsize=15)\n",
    "plt.ylabel('Predictions', fontsize=15)\n",
    "plt.axis('equal')\n",
    "plt.show()"
   ]
  },
  {
   "cell_type": "markdown",
   "id": "nervous-monster",
   "metadata": {},
   "source": [
    "### Try it yourself!\n",
    "\n",
    "Find a review from any smartphone online and try the model (the longer it's, the better). Be careful, since the next lines doesn't delete punctuation and digits."
   ]
  },
  {
   "cell_type": "code",
   "execution_count": 13,
   "id": "premier-guyana",
   "metadata": {},
   "outputs": [
    {
     "name": "stdout",
     "output_type": "stream",
     "text": [
      "Introduce the review:samsung \n",
      "1/1 [==============================] - 0s 47ms/step\n"
     ]
    },
    {
     "data": {
      "text/plain": [
       "array([[-0.7081269]], dtype=float32)"
      ]
     },
     "execution_count": 13,
     "metadata": {},
     "output_type": "execute_result"
    }
   ],
   "source": [
    "text_review = input(\"Introduce the review:\")\n",
    "model.predict(t.texts_to_matrix([text_review.lower().split()], mode='count'))"
   ]
  }
 ],
 "metadata": {
  "kernelspec": {
   "display_name": "Python 3",
   "language": "python",
   "name": "python3"
  },
  "language_info": {
   "codemirror_mode": {
    "name": "ipython",
    "version": 3
   },
   "file_extension": ".py",
   "mimetype": "text/x-python",
   "name": "python",
   "nbconvert_exporter": "python",
   "pygments_lexer": "ipython3",
   "version": "3.9.7"
  }
 },
 "nbformat": 4,
 "nbformat_minor": 5
}
